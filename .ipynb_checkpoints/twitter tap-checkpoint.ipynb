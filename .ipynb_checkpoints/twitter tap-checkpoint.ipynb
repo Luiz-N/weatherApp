{
 "metadata": {
  "name": "",
  "signature": "sha256:b326b87c05857f29c3e0307582727249025292407a82c8dd8d0c6a76116b1c4b"
 },
 "nbformat": 3,
 "nbformat_minor": 0,
 "worksheets": [
  {
   "cells": [
    {
     "cell_type": "code",
     "collapsed": false,
     "input": [
      "from twython import Twython\n",
      "from twython import TwythonStreamer"
     ],
     "language": "python",
     "metadata": {},
     "outputs": [],
     "prompt_number": 6
    },
    {
     "cell_type": "code",
     "collapsed": false,
     "input": [
      "APP_KEY = 'd1nhC70s2W246koCCwt2dfPrS'\n",
      "APP_SECRET = 'coLHtF1LGJWuu6VnMKRgGnKKSN2C70r1uQ5s9YVOlhdmRBrGhf'\n",
      "\n",
      "OAUTH_TOKEN = '397016279-Y7MSSH8hOCCNetlpj8WCo7o4RSuZy7PReDV8pC4F'  # Access token\n",
      "OAUTH_TOKEN_SECRET = 'gSopBRJ2rJKVO7aUvc2lxGt6cpy057ms8lfpnUlHZafxb'  # Access token secret\n",
      " \n",
      "# Obtain an OAuth 2 Access Token\n",
      "twitter = Twython(APP_KEY, APP_SECRET, oauth_version=2)\n",
      "ACCESS_TOKEN = twitter.obtain_access_token()\n",
      " \n",
      "# Use the Access Token\n",
      "twitter = Twython(APP_KEY, access_token=ACCESS_TOKEN)"
     ],
     "language": "python",
     "metadata": {},
     "outputs": [],
     "prompt_number": 7
    },
    {
     "cell_type": "code",
     "collapsed": false,
     "input": [],
     "language": "python",
     "metadata": {},
     "outputs": [],
     "prompt_number": 7
    },
    {
     "cell_type": "code",
     "collapsed": false,
     "input": [],
     "language": "python",
     "metadata": {},
     "outputs": [],
     "prompt_number": 7
    },
    {
     "cell_type": "code",
     "collapsed": false,
     "input": [
      "class MyStreamer(TwythonStreamer):\n",
      "    def on_success(self, data):\n",
      "        if 'text' in data:\n",
      "                print data['text'].encode('utf-8')\n",
      "\n",
      "    def on_error(self, status_code, data):\n",
      "        print status_code\n",
      "\n",
      "        # Want to stop trying to get data because of the error?\n",
      "        # Uncomment the next line!\n",
      "        self.disconnect()"
     ],
     "language": "python",
     "metadata": {},
     "outputs": [],
     "prompt_number": 8
    },
    {
     "cell_type": "code",
     "collapsed": false,
     "input": [
      "stream = MyStreamer(APP_KEY, APP_SECRET, OAUTH_TOKEN, OAUTH_TOKEN_SECRET)\n",
      "stream.statuses.filter(locations = '-180,-90,180,90')"
     ],
     "language": "python",
     "metadata": {},
     "outputs": [
      {
       "output_type": "stream",
       "stream": "stdout",
       "text": [
        "406\n"
       ]
      }
     ],
     "prompt_number": 9
    },
    {
     "cell_type": "code",
     "collapsed": false,
     "input": [],
     "language": "python",
     "metadata": {},
     "outputs": [],
     "prompt_number": 9
    },
    {
     "cell_type": "code",
     "collapsed": false,
     "input": [],
     "language": "python",
     "metadata": {},
     "outputs": [],
     "prompt_number": 9
    },
    {
     "cell_type": "code",
     "collapsed": false,
     "input": [],
     "language": "python",
     "metadata": {},
     "outputs": [],
     "prompt_number": 9
    },
    {
     "cell_type": "code",
     "collapsed": false,
     "input": [],
     "language": "python",
     "metadata": {},
     "outputs": [],
     "prompt_number": 9
    }
   ],
   "metadata": {}
  }
 ]
}